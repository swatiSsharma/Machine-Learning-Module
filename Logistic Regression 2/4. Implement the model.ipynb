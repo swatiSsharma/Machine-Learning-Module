{
 "cells": [
  {
   "cell_type": "markdown",
   "id": "d3dc736e",
   "metadata": {},
   "source": [
    "# Implement the model\n",
    "\n",
    "Consider the data collected from 500 customers in a restaurant. It is observed that 40 of the 80 customers tipped the server who was wearing a black jacket, and 300 of the 420 customers tipped the server who was wearing a different color.\n",
    "\n",
    "Say x=1 indicates that the server is wearing a black jacket. There will be 420 customers with x=0 and 80 with x=1. And y denotes the event of tipping a server (1 meaning tipped). Use this data to fit a scikit learn logistic regression model to compute the equation for computing the log-odds of giving a tip based on the color of the server’s jacket."
   ]
  },
  {
   "cell_type": "code",
   "execution_count": 1,
   "id": "8ae32fef",
   "metadata": {},
   "outputs": [],
   "source": [
    "import numpy as np\n",
    "from sklearn.linear_model import LogisticRegression\n",
    "\n",
    "# Input features (x) and target variable (y)\n",
    "# x=1 indicates the server is wearing a black jacket, and x=0 indicates a different color.\n",
    "x = np.concatenate((np.zeros(420), np.ones(80)))\n",
    "y = np.concatenate((np.zeros(120), np.ones(380)))\n",
    "\n",
    "# Reshape the x array to a 2D array with a single feature per row\n",
    "x = x.reshape(-1, 1)\n",
    "\n",
    "# Create and fit the logistic regression model\n",
    "model = LogisticRegression()\n",
    "model.fit(x, y)\n",
    "\n",
    "# Get the coefficients (slope) and intercept (bias) of the logistic regression model\n",
    "coefficients = model.coef_[0][0]\n",
    "intercept = model.intercept_[0]\n",
    "\n",
    "# The equation for computing the log-odds of tipping based on the color of the server's jacket\n",
    "# log_odds = intercept + coefficient * x\n",
    "# Here, x=1 indicates the server is wearing a black jacket, and x=0 indicates a different color."
   ]
  }
 ],
 "metadata": {
  "kernelspec": {
   "display_name": "Python 3 (ipykernel)",
   "language": "python",
   "name": "python3"
  },
  "language_info": {
   "codemirror_mode": {
    "name": "ipython",
    "version": 3
   },
   "file_extension": ".py",
   "mimetype": "text/x-python",
   "name": "python",
   "nbconvert_exporter": "python",
   "pygments_lexer": "ipython3",
   "version": "3.9.13"
  }
 },
 "nbformat": 4,
 "nbformat_minor": 5
}
